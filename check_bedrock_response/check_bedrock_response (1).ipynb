{
 "cells": [
  {
   "cell_type": "code",
   "execution_count": 13,
   "id": "5eb6e164-8fd8-4d7e-9533-a955c59f5af7",
   "metadata": {
    "tags": []
   },
   "outputs": [],
   "source": [
    "import boto3\n",
    "import json\n",
    "import ast\n",
    "\n",
    "client = boto3.client(service_name=\"bedrock-runtime\", region_name=\"us-west-2\")"
   ]
  },
  {
   "cell_type": "code",
   "execution_count": 2,
   "id": "9c37d2d8-5e5a-4054-840d-16387b8e10d8",
   "metadata": {
    "jupyter": {
     "source_hidden": true
    },
    "tags": []
   },
   "outputs": [],
   "source": [
    "# import boto3\n",
    "# import json\n",
    "\n",
    "# bedrock_region = \"us-west-2\"\n",
    "# client = boto3.client(\"bedrock-runtime\", region_name=bedrock_region)\n",
    "\n",
    "# def generate_claude_response(prompt):\n",
    "#     model_id = \"us.anthropic.claude-3-7-sonnet-20250219-v1:0\"\n",
    "\n",
    "#     response = client.converse_stream(\n",
    "#         modelId=model_id,\n",
    "#         messages=[\n",
    "#             {\n",
    "#                 \"role\": \"user\",\n",
    "#                 \"content\": [\n",
    "#                     {\"text\": prompt}\n",
    "#                 ],\n",
    "#             }\n",
    "#         ],\n",
    "#         inferenceConfig={\n",
    "#             \"maxTokens\": 10000,\n",
    "#             \"temperature\": 0.7,\n",
    "#             \"topP\": 1.0,\n",
    "#             \"stopSequences\": []\n",
    "#         }\n",
    "#     )\n",
    "\n",
    "#     full_response = \"\"\n",
    "\n",
    "#     # Process the streamed response correctly\n",
    "#     for event in response[\"stream\"]:\n",
    "#         # print(\"event:\", event)  # Debugging: Print raw event\n",
    "\n",
    "#         # Extract text from 'contentBlockDelta' events\n",
    "#         if \"contentBlockDelta\" in event:\n",
    "#             full_response += event[\"contentBlockDelta\"][\"delta\"].get(\"text\", \"\")\n",
    "\n",
    "#     return full_response "
   ]
  },
  {
   "cell_type": "code",
   "execution_count": 14,
   "id": "8f0bd741-d132-4e04-aab7-7d76f0a1d720",
   "metadata": {
    "tags": []
   },
   "outputs": [],
   "source": [
    "def process_stream_response(response):\n",
    "    try:\n",
    "        result = \"\"\n",
    "        input_tokens, output_tokens = 0, 0\n",
    "        for event in response[\"body\"]:\n",
    "            chunk = json.loads(event[\"chunk\"][\"bytes\"])\n",
    "\n",
    "            if \"delta\" in chunk and \"text\" in chunk[\"delta\"]:\n",
    "                result += chunk[\"delta\"][\"text\"]\n",
    "\n",
    "            if chunk.get(\"type\") == \"message_stop\" and \"amazon-bedrock-invocationMetrics\" in chunk:\n",
    "                metrics = chunk[\"amazon-bedrock-invocationMetrics\"]\n",
    "                input_tokens = metrics.get(\"inputTokenCount\", 0)\n",
    "                output_tokens = metrics.get(\"outputTokenCount\", 0)\n",
    "\n",
    "        return result, input_tokens, output_tokens\n",
    "    except Exception as e:\n",
    "        raise RuntimeError(f\"Error processing Claude stream response: {str(e)}\")\n",
    "\n",
    "\n",
    "def generate_stream_response(prompt: str, max_tokens: int = 10000, temperature: float = 0.7):\n",
    "    try:\n",
    "        payload = {\n",
    "            \"anthropic_version\": \"bedrock-2023-05-31\",\n",
    "            \"max_tokens\": max_tokens,\n",
    "            \"temperature\": temperature,\n",
    "            \"messages\": [{\"role\": \"user\", \"content\": prompt}],\n",
    "        }\n",
    "\n",
    "        response = client.invoke_model_with_response_stream(\n",
    "            body=json.dumps(payload),\n",
    "            modelId=\"us.anthropic.claude-3-7-sonnet-20250219-v1:0\",\n",
    "            accept=\"application/json\",\n",
    "            contentType=\"application/json\"\n",
    "        )\n",
    "        return process_stream_response(response)\n",
    "    except Exception as e:\n",
    "        raise RuntimeError(f\"Error generating Claude stream response: {str(e)}\")"
   ]
  },
  {
   "cell_type": "code",
   "execution_count": 19,
   "id": "3764a074-2190-4d2b-989c-bb24ed37e621",
   "metadata": {
    "tags": []
   },
   "outputs": [],
   "source": [
    "def generate_response(prompt: str, max_tokens: int = 10000, temperature: float = 1, top_k: int = 250,\n",
    "                      top_p: float = 0.999):\n",
    "    try:\n",
    "        payload = {\n",
    "            \"anthropic_version\": \"bedrock-2023-05-31\",\n",
    "            \"max_tokens\": max_tokens,\n",
    "            \"top_k\": top_k,\n",
    "            \"temperature\": temperature,\n",
    "            \"top_p\": top_p,\n",
    "            \"messages\": [\n",
    "                {\n",
    "                    \"role\": \"user\",\n",
    "                    \"content\": [{\"type\": \"text\", \"text\": prompt}],\n",
    "                }\n",
    "            ],\n",
    "        }\n",
    "\n",
    "        response = client.invoke_model(\n",
    "            body=json.dumps(payload),\n",
    "            modelId=\"us.anthropic.claude-3-7-sonnet-20250219-v1:0\",\n",
    "            accept=\"application/json\",\n",
    "            contentType=\"application/json\"\n",
    "        )\n",
    "\n",
    "        body = json.loads(response[\"body\"].read())\n",
    "        text = body[\"content\"][0][\"text\"]\n",
    "        return text, 0, 0\n",
    "    except Exception as e:\n",
    "        print(traceback.format_exc())\n",
    "        raise RuntimeError(f\"Error generating Claude response: {str(e)}\")"
   ]
  },
  {
   "cell_type": "code",
   "execution_count": 20,
   "id": "6e3aa79b-d2bb-4dd4-9b7b-0ac5c7ad1d87",
   "metadata": {
    "jupyter": {
     "source_hidden": true
    },
    "tags": []
   },
   "outputs": [],
   "source": [
    "# def check_for_table(result):\n",
    "#     try:\n",
    "#         # Convert string representation to a Python list\n",
    "#         result_list = ast.literal_eval(result)\n",
    "\n",
    "#         # Ensure the result is a list with at least 2 entries\n",
    "#         if isinstance(result_list, list) and len(result_list) > 1:\n",
    "#             for row in result_list:\n",
    "#                 if isinstance(row, dict):  # Ensure it's a dictionary\n",
    "#                     has_non_float = any(not isinstance(value, float) for value in row.values())  # Accepts int & str\n",
    "#                     has_number = any(isinstance(value, (int, float)) for value in row.values())\n",
    "\n",
    "#                     if has_non_float and has_number:\n",
    "#                         return True  # Use table format\n",
    "\n",
    "#         return False  # Otherwise, don't use table format\n",
    "\n",
    "#     except (ValueError, SyntaxError):\n",
    "#         return False  # If parsing fails, assume it's not table-compatible"
   ]
  },
  {
   "cell_type": "code",
   "execution_count": 21,
   "id": "05f8e171-328b-4d75-bf11-8094a1fb869a",
   "metadata": {
    "tags": []
   },
   "outputs": [],
   "source": [
    "def check_for_table(result):\n",
    "    \"\"\"Determine if result should be displayed as a table.\"\"\"\n",
    "    try:\n",
    "        # result_list = self.result.get(\"table\")\n",
    "        result_list = result\n",
    "\n",
    "        if isinstance(result_list, list) and len(result_list) > 1:\n",
    "            return all(isinstance(row, dict) for row in result_list)\n",
    "        return False\n",
    "    except (ValueError, SyntaxError):\n",
    "        return False"
   ]
  },
  {
   "cell_type": "code",
   "execution_count": 22,
   "id": "96c56247-710d-4e44-b1c7-ac85910923ec",
   "metadata": {
    "tags": []
   },
   "outputs": [],
   "source": [
    "def get_prompt(file):\n",
    "    try:\n",
    "        with open(file, \"r\") as f:\n",
    "            return f.read()\n",
    "    except Exception as e:\n",
    "        raise f\"Error reading file: {str(e)}\""
   ]
  },
  {
   "cell_type": "code",
   "execution_count": 23,
   "id": "4f9d4fe0-ea23-451b-a97c-4c46353506b1",
   "metadata": {
    "tags": []
   },
   "outputs": [],
   "source": [
    "def generate_html_response(result, question):\n",
    "    result = result\n",
    "    question = question\n",
    "\n",
    "    is_table_possible = check_for_table(result)\n",
    "    # Determine the correct prompt\n",
    "    print(is_table_possible)\n",
    "    if is_table_possible:\n",
    "        html_prompt = get_prompt('neptune_table_html_prompt_AG.txt')\n",
    "        # html_prompt = get_prompt('test_print_res_prompt.txt')\n",
    "    else:\n",
    "        html_prompt = get_prompt('neptune_list_html_prompt.txt')\n",
    "\n",
    "    # Format the response\n",
    "    result_str = str(result)\n",
    "    html_prompt = html_prompt.replace('$$RESULT$$', result_str).replace('$$QUESTION$$', question)\n",
    "    answer = generate_response(html_prompt)\n",
    "    res_stream = generate_stream_response(html_prompt)\n",
    "\n",
    "    return answer, res_stream"
   ]
  },
  {
   "cell_type": "code",
   "execution_count": 24,
   "id": "f3c2c31d-ddb5-4f7b-b410-375702f192f7",
   "metadata": {
    "tags": []
   },
   "outputs": [],
   "source": [
    "result = \"\"\"[{'Neighborhood': 'Cluster 1', 'Shift': 'DAY', 'Number of Offenses': 56}, {'Neighborhood': 'Cluster 1', 'Shift': 'EVENING', 'Number of Offenses': 69}, {'Neighborhood': 'Cluster 1', 'Shift': 'MIDNIGHT', 'Number of Offenses': 34}, {'Neighborhood': 'Cluster 10', 'Shift': 'DAY', 'Number of Offenses': 16}, {'Neighborhood': 'Cluster 10', 'Shift': 'EVENING', 'Number of Offenses': 27}, {'Neighborhood': 'Cluster 10', 'Shift': 'MIDNIGHT', 'Number of Offenses': 5}, {'Neighborhood': 'Cluster 11', 'Shift': 'DAY', 'Number of Offenses': 34}, {'Neighborhood': 'Cluster 11', 'Shift': 'EVENING', 'Number of Offenses': 45}, {'Neighborhood': 'Cluster 11', 'Shift': 'MIDNIGHT', 'Number of Offenses': 11}, {'Neighborhood': 'Cluster 12', 'Shift': 'DAY', 'Number of Offenses': 28}, {'Neighborhood': 'Cluster 12', 'Shift': 'EVENING', 'Number of Offenses': 39}, {'Neighborhood': 'Cluster 12', 'Shift': 'MIDNIGHT', 'Number of Offenses': 5}, {'Neighborhood': 'Cluster 13', 'Shift': 'DAY', 'Number of Offenses': 17}, {'Neighborhood': 'Cluster 13', 'Shift': 'EVENING', 'Number of Offenses': 15}, {'Neighborhood': 'Cluster 13', 'Shift': 'MIDNIGHT', 'Number of Offenses': 2}, {'Neighborhood': 'Cluster 14', 'Shift': 'DAY', 'Number of Offenses': 51}, {'Neighborhood': 'Cluster 14', 'Shift': 'EVENING', 'Number of Offenses': 41}, {'Neighborhood': 'Cluster 14', 'Shift': 'MIDNIGHT', 'Number of Offenses': 12}, {'Neighborhood': 'Cluster 15', 'Shift': 'DAY', 'Number of Offenses': 37}, {'Neighborhood': 'Cluster 15', 'Shift': 'EVENING', 'Number of Offenses': 48}, {'Neighborhood': 'Cluster 15', 'Shift': 'MIDNIGHT', 'Number of Offenses': 8}, {'Neighborhood': 'Cluster 16', 'Shift': 'DAY', 'Number of Offenses': 20}, {'Neighborhood': 'Cluster 16', 'Shift': 'EVENING', 'Number of Offenses': 14}, {'Neighborhood': 'Cluster 16', 'Shift': 'MIDNIGHT', 'Number of Offenses': 6}, {'Neighborhood': 'Cluster 17', 'Shift': 'DAY', 'Number of Offenses': 105}, {'Neighborhood': 'Cluster 17', 'Shift': 'EVENING', 'Number of Offenses': 111}, {'Neighborhood': 'Cluster 17', 'Shift': 'MIDNIGHT', 'Number of Offenses': 46}, {'Neighborhood': 'Cluster 18', 'Shift': 'DAY', 'Number of Offenses': 158}, {'Neighborhood': 'Cluster 18', 'Shift': 'EVENING', 'Number of Offenses': 121}, {'Neighborhood': 'Cluster 18', 'Shift': 'MIDNIGHT', 'Number of Offenses': 73}, {'Neighborhood': 'Cluster 19', 'Shift': 'DAY', 'Number of Offenses': 38}, {'Neighborhood': 'Cluster 19', 'Shift': 'EVENING', 'Number of Offenses': 49}, {'Neighborhood': 'Cluster 19', 'Shift': 'MIDNIGHT', 'Number of Offenses': 30}, {'Neighborhood': 'Cluster 2', 'Shift': 'DAY', 'Number of Offenses': 190}, {'Neighborhood': 'Cluster 2', 'Shift': 'EVENING', 'Number of Offenses': 257}, {'Neighborhood': 'Cluster 2', 'Shift': 'MIDNIGHT', 'Number of Offenses': 88}, {'Neighborhood': 'Cluster 20', 'Shift': 'DAY', 'Number of Offenses': 41}, {'Neighborhood': 'Cluster 20', 'Shift': 'EVENING', 'Number of Offenses': 36}, {'Neighborhood': 'Cluster 20', 'Shift': 'MIDNIGHT', 'Number of Offenses': 16}, {'Neighborhood': 'Cluster 21', 'Shift': 'DAY', 'Number of Offenses': 119}, {'Neighborhood': 'Cluster 21', 'Shift': 'EVENING', 'Number of Offenses': 122}, {'Neighborhood': 'Cluster 21', 'Shift': 'MIDNIGHT', 'Number of Offenses': 67}, {'Neighborhood': 'Cluster 22', 'Shift': 'DAY', 'Number of Offenses': 92}, {'Neighborhood': 'Cluster 22', 'Shift': 'EVENING', 'Number of Offenses': 77}, {'Neighborhood': 'Cluster 22', 'Shift': 'MIDNIGHT', 'Number of Offenses': 67}, {'Neighborhood': 'Cluster 23', 'Shift': 'DAY', 'Number of Offenses': 179}, {'Neighborhood': 'Cluster 23', 'Shift': 'EVENING', 'Number of Offenses': 171}, {'Neighborhood': 'Cluster 23', 'Shift': 'MIDNIGHT', 'Number of Offenses': 93}, {'Neighborhood': 'Cluster 24', 'Shift': 'DAY', 'Number of Offenses': 54}, {'Neighborhood': 'Cluster 24', 'Shift': 'EVENING', 'Number of Offenses': 39}, {'Neighborhood': 'Cluster 24', 'Shift': 'MIDNIGHT', 'Number of Offenses': 32}, {'Neighborhood': 'Cluster 25', 'Shift': 'DAY', 'Number of Offenses': 197}, {'Neighborhood': 'Cluster 25', 'Shift': 'EVENING', 'Number of Offenses': 182}, {'Neighborhood': 'Cluster 25', 'Shift': 'MIDNIGHT', 'Number of Offenses': 63}, {'Neighborhood': 'Cluster 26', 'Shift': 'DAY', 'Number of Offenses': 119}, {'Neighborhood': 'Cluster 26', 'Shift': 'EVENING', 'Number of Offenses': 100}, {'Neighborhood': 'Cluster 26', 'Shift': 'MIDNIGHT', 'Number of Offenses': 31}, {'Neighborhood': 'Cluster 27', 'Shift': 'DAY', 'Number of Offenses': 67}, {'Neighborhood': 'Cluster 27', 'Shift': 'EVENING', 'Number of Offenses': 54}, {'Neighborhood': 'Cluster 27', 'Shift': 'MIDNIGHT', 'Number of Offenses': 27}, {'Neighborhood': 'Cluster 28', 'Shift': 'DAY', 'Number of Offenses': 20}, {'Neighborhood': 'Cluster 28', 'Shift': 'EVENING', 'Number of Offenses': 17}, {'Neighborhood': 'Cluster 28', 'Shift': 'MIDNIGHT', 'Number of Offenses': 11}, {'Neighborhood': 'Cluster 29', 'Shift': 'DAY', 'Number of Offenses': 6}, {'Neighborhood': 'Cluster 29', 'Shift': 'EVENING', 'Number of Offenses': 3}, {'Neighborhood': 'Cluster 29', 'Shift': 'MIDNIGHT', 'Number of Offenses': 2}, {'Neighborhood': 'Cluster 3', 'Shift': 'DAY', 'Number of Offenses': 111}, {'Neighborhood': 'Cluster 3', 'Shift': 'EVENING', 'Number of Offenses': 147}, {'Neighborhood': 'Cluster 3', 'Shift': 'MIDNIGHT', 'Number of Offenses': 115}, {'Neighborhood': 'Cluster 30', 'Shift': 'DAY', 'Number of Offenses': 36}, {'Neighborhood': 'Cluster 30', 'Shift': 'EVENING', 'Number of Offenses': 33}, {'Neighborhood': 'Cluster 30', 'Shift': 'MIDNIGHT', 'Number of Offenses': 9}, {'Neighborhood': 'Cluster 31', 'Shift': 'DAY', 'Number of Offenses': 69}, {'Neighborhood': 'Cluster 31', 'Shift': 'EVENING', 'Number of Offenses': 63}, {'Neighborhood': 'Cluster 31', 'Shift': 'MIDNIGHT', 'Number of Offenses': 36}, {'Neighborhood': 'Cluster 32', 'Shift': 'DAY', 'Number of Offenses': 68}, {'Neighborhood': 'Cluster 32', 'Shift': 'EVENING', 'Number of Offenses': 67}, {'Neighborhood': 'Cluster 32', 'Shift': 'MIDNIGHT', 'Number of Offenses': 27}, {'Neighborhood': 'Cluster 33', 'Shift': 'DAY', 'Number of Offenses': 77}, {'Neighborhood': 'Cluster 33', 'Shift': 'EVENING', 'Number of Offenses': 73}, {'Neighborhood': 'Cluster 33', 'Shift': 'MIDNIGHT', 'Number of Offenses': 35}, {'Neighborhood': 'Cluster 34', 'Shift': 'DAY', 'Number of Offenses': 85}, {'Neighborhood': 'Cluster 34', 'Shift': 'EVENING', 'Number of Offenses': 71}, {'Neighborhood': 'Cluster 34', 'Shift': 'MIDNIGHT', 'Number of Offenses': 50}, {'Neighborhood': 'Cluster 35', 'Shift': 'DAY', 'Number of Offenses': 58}, {'Neighborhood': 'Cluster 35', 'Shift': 'EVENING', 'Number of Offenses': 52}, {'Neighborhood': 'Cluster 35', 'Shift': 'MIDNIGHT', 'Number of Offenses': 14}, {'Neighborhood': 'Cluster 36', 'Shift': 'DAY', 'Number of Offenses': 28}, {'Neighborhood': 'Cluster 36', 'Shift': 'EVENING', 'Number of Offenses': 22}, {'Neighborhood': 'Cluster 36', 'Shift': 'MIDNIGHT', 'Number of Offenses': 22}, {'Neighborhood': 'Cluster 37', 'Shift': 'DAY', 'Number of Offenses': 22}, {'Neighborhood': 'Cluster 37', 'Shift': 'EVENING', 'Number of Offenses': 24}, {'Neighborhood': 'Cluster 37', 'Shift': 'MIDNIGHT', 'Number of Offenses': 16}, {'Neighborhood': 'Cluster 38', 'Shift': 'DAY', 'Number of Offenses': 24}, {'Neighborhood': 'Cluster 38', 'Shift': 'EVENING', 'Number of Offenses': 37}, {'Neighborhood': 'Cluster 38', 'Shift': 'MIDNIGHT', 'Number of Offenses': 26}, {'Neighborhood': 'Cluster 39', 'Shift': 'DAY', 'Number of Offenses': 96}, {'Neighborhood': 'Cluster 39', 'Shift': 'EVENING', 'Number of Offenses': 108}, {'Neighborhood': 'Cluster 39', 'Shift': 'MIDNIGHT', 'Number of Offenses': 74}, {'Neighborhood': 'Cluster 4', 'Shift': 'DAY', 'Number of Offenses': 50}, {'Neighborhood': 'Cluster 4', 'Shift': 'EVENING', 'Number of Offenses': 71}, {'Neighborhood': 'Cluster 4', 'Shift': 'MIDNIGHT', 'Number of Offenses': 16}, {'Neighborhood': 'Cluster 40', 'Shift': 'DAY', 'Number of Offenses': 3}, {'Neighborhood': 'Cluster 40', 'Shift': 'EVENING', 'Number of Offenses': 4}, {'Neighborhood': 'Cluster 40', 'Shift': 'MIDNIGHT', 'Number of Offenses': 3}, {'Neighborhood': 'Cluster 41', 'Shift': 'DAY', 'Number of Offenses': 1}, {'Neighborhood': 'Cluster 43', 'Shift': 'DAY', 'Number of Offenses': 6}, {'Neighborhood': 'Cluster 43', 'Shift': 'EVENING', 'Number of Offenses': 3}, {'Neighborhood': 'Cluster 43', 'Shift': 'MIDNIGHT', 'Number of Offenses': 4}, {'Neighborhood': 'Cluster 44', 'Shift': 'DAY', 'Number of Offenses': 3}, {'Neighborhood': 'Cluster 44', 'Shift': 'EVENING', 'Number of Offenses': 2}, {'Neighborhood': 'Cluster 44', 'Shift': 'MIDNIGHT', 'Number of Offenses': 1}, {'Neighborhood': 'Cluster 45', 'Shift': 'DAY', 'Number of Offenses': 3}, {'Neighborhood': 'Cluster 45', 'Shift': 'EVENING', 'Number of Offenses': 4}, {'Neighborhood': 'Cluster 45', 'Shift': 'MIDNIGHT', 'Number of Offenses': 1}, {'Neighborhood': 'Cluster 46', 'Shift': 'EVENING', 'Number of Offenses': 1}, {'Neighborhood': 'Cluster 5', 'Shift': 'DAY', 'Number of Offenses': 41}, {'Neighborhood': 'Cluster 5', 'Shift': 'EVENING', 'Number of Offenses': 37}, {'Neighborhood': 'Cluster 5', 'Shift': 'MIDNIGHT', 'Number of Offenses': 18}, {'Neighborhood': 'Cluster 6', 'Shift': 'DAY', 'Number of Offenses': 106}, {'Neighborhood': 'Cluster 6', 'Shift': 'EVENING', 'Number of Offenses': 124}, {'Neighborhood': 'Cluster 6', 'Shift': 'MIDNIGHT', 'Number of Offenses': 81}, {'Neighborhood': 'Cluster 7', 'Shift': 'DAY', 'Number of Offenses': 83}, {'Neighborhood': 'Cluster 7', 'Shift': 'EVENING', 'Number of Offenses': 95}, {'Neighborhood': 'Cluster 7', 'Shift': 'MIDNIGHT', 'Number of Offenses': 64}, {'Neighborhood': 'Cluster 8', 'Shift': 'DAY', 'Number of Offenses': 140}, {'Neighborhood': 'Cluster 8', 'Shift': 'EVENING', 'Number of Offenses': 163}, {'Neighborhood': 'Cluster 8', 'Shift': 'MIDNIGHT', 'Number of Offenses': 52}, {'Neighborhood': 'Cluster 9', 'Shift': 'DAY', 'Number of Offenses': 53}, {'Neighborhood': 'Cluster 9', 'Shift': 'EVENING', 'Number of Offenses': 58}, {'Neighborhood': 'Cluster 9', 'Shift': 'MIDNIGHT', 'Number of Offenses': 24}, {'Neighborhood': None, 'Shift': 'EVENING', 'Number of Offenses': 1}, {'Neighborhood': None, 'Shift': 'MIDNIGHT', 'Number of Offenses': 1}, {'Neighborhood': None, 'Shift': 'DAY', 'Number of Offenses': 1}] \"\"\"\n",
    "question = \"How does the frequency of offenses vary by shift across different neighborhoods?\""
   ]
  },
  {
   "cell_type": "code",
   "execution_count": 25,
   "id": "58902095-b21d-48d4-8caa-cecf8d189e9c",
   "metadata": {
    "tags": []
   },
   "outputs": [],
   "source": [
    "# result = [{'Task ID': '1020', 'Task Creation Date': '2023-07-19T00:00:00Z', 'Task Labor Price': 0.0, 'Order ID': '120'}, {'Task ID': '1021', 'Task Creation Date': '2023-07-19T00:00:00Z', 'Task Labor Price': 0.0, 'Order ID': '120'}, {'Task ID': '1023', 'Task Creation Date': '2023-07-19T00:00:00Z', 'Task Labor Price': 0.0, 'Order ID': '121'}, {'Task ID': '1024', 'Task Creation Date': '2023-07-19T00:00:00Z', 'Task Labor Price': 0.0, 'Order ID': '121'}, {'Task ID': '1031', 'Task Creation Date': '2023-07-19T00:00:00Z', 'Task Labor Price': 0.0, 'Order ID': '121'}, {'Task ID': '1037', 'Task Creation Date': '2023-07-19T00:00:00Z', 'Task Labor Price': 0.0, 'Order ID': '121'}, {'Task ID': '1038', 'Task Creation Date': '2023-07-19T00:00:00Z', 'Task Labor Price': 0.0, 'Order ID': '121'}, {'Task ID': '1039', 'Task Creation Date': '2023-07-19T00:00:00Z', 'Task Labor Price': 0.0, 'Order ID': '121'}, {'Task ID': '1025', 'Task Creation Date': '2023-07-19T00:00:00Z', 'Task Labor Price': 0.0, 'Order ID': '121'}, {'Task ID': '1017', 'Task Creation Date': '2023-07-19T00:00:00Z', 'Task Labor Price': 0.0, 'Order ID': '122'}, {'Task ID': '1018', 'Task Creation Date': '2023-07-19T00:00:00Z', 'Task Labor Price': 0.0, 'Order ID': '122'}, {'Task ID': '1041', 'Task Creation Date': '2023-07-19T00:00:00Z', 'Task Labor Price': 0.0, 'Order ID': '123'}, {'Task ID': '1042', 'Task Creation Date': '2023-07-19T00:00:00Z', 'Task Labor Price': 0.0, 'Order ID': '123'}, {'Task ID': '1043', 'Task Creation Date': '2023-07-19T00:00:00Z', 'Task Labor Price': 0.0, 'Order ID': '123'}, {'Task ID': '1048', 'Task Creation Date': '2023-07-19T00:00:00Z', 'Task Labor Price': 0.0, 'Order ID': '123'}, {'Task ID': '1054', 'Task Creation Date': '2023-07-19T00:00:00Z', 'Task Labor Price': 0.0, 'Order ID': '123'}, {'Task ID': '1055', 'Task Creation Date': '2023-07-19T00:00:00Z', 'Task Labor Price': 0.0, 'Order ID': '123'}, {'Task ID': '1056', 'Task Creation Date': '2023-07-19T00:00:00Z', 'Task Labor Price': 0.0, 'Order ID': '123'}, {'Task ID': '1036', 'Task Creation Date': '2023-07-19T00:00:00Z', 'Task Labor Price': 535.0, 'Order ID': '121'}, {'Task ID': '1053', 'Task Creation Date': '2023-07-19T00:00:00Z', 'Task Labor Price': 535.0, 'Order ID': '123'}, {'Task ID': '1029', 'Task Creation Date': '2023-07-19T00:00:00Z', 'Task Labor Price': 750.0, 'Order ID': '121'}, {'Task ID': '1046', 'Task Creation Date': '2023-07-19T00:00:00Z', 'Task Labor Price': 750.0, 'Order ID': '123'}, {'Task ID': '1027', 'Task Creation Date': '2023-07-19T00:00:00Z', 'Task Labor Price': 781.0, 'Order ID': '121'}, {'Task ID': '1045', 'Task Creation Date': '2023-07-19T00:00:00Z', 'Task Labor Price': 781.0, 'Order ID': '123'}, {'Task ID': '1030', 'Task Creation Date': '2023-07-19T00:00:00Z', 'Task Labor Price': 794.0, 'Order ID': '121'}, {'Task ID': '1047', 'Task Creation Date': '2023-07-19T00:00:00Z', 'Task Labor Price': 794.0, 'Order ID': '123'}, {'Task ID': '1028', 'Task Creation Date': '2023-07-19T00:00:00Z', 'Task Labor Price': 1013.0, 'Order ID': '121'}, {'Task ID': '1033', 'Task Creation Date': '2023-07-19T00:00:00Z', 'Task Labor Price': 1058.0, 'Order ID': '121'}, {'Task ID': '1050', 'Task Creation Date': '2023-07-19T00:00:00Z', 'Task Labor Price': 1058.0, 'Order ID': '123'}, {'Task ID': '1026', 'Task Creation Date': '2023-07-19T00:00:00Z', 'Task Labor Price': 1545.0, 'Order ID': '121'}, {'Task ID': '1044', 'Task Creation Date': '2023-07-19T00:00:00Z', 'Task Labor Price': 1545.0, 'Order ID': '123'}, {'Task ID': '1035', 'Task Creation Date': '2023-07-19T00:00:00Z', 'Task Labor Price': 1693.0, 'Order ID': '121'}, {'Task ID': '1052', 'Task Creation Date': '2023-07-19T00:00:00Z', 'Task Labor Price': 1693.0, 'Order ID': '123'}, {'Task ID': '1032', 'Task Creation Date': '2023-07-19T00:00:00Z', 'Task Labor Price': 1840.0, 'Order ID': '121'}, {'Task ID': '1049', 'Task Creation Date': '2023-07-19T00:00:00Z', 'Task Labor Price': 1840.0, 'Order ID': '123'}, {'Task ID': '1019', 'Task Creation Date': '2023-07-19T00:00:00Z', 'Task Labor Price': 2012.0, 'Order ID': '120'}, {'Task ID': '1022', 'Task Creation Date': '2023-07-19T00:00:00Z', 'Task Labor Price': 2012.0, 'Order ID': '121'}, {'Task ID': '1016', 'Task Creation Date': '2023-07-19T00:00:00Z', 'Task Labor Price': 2012.0, 'Order ID': '122'}, {'Task ID': '1040', 'Task Creation Date': '2023-07-19T00:00:00Z', 'Task Labor Price': 2012.0, 'Order ID': '123'}, {'Task ID': '1034', 'Task Creation Date': '2023-07-19T00:00:00Z', 'Task Labor Price': 4245.0, 'Order ID': '121'}, {'Task ID': '1051', 'Task Creation Date': '2023-07-19T00:00:00Z', 'Task Labor Price': 4245.0, 'Order ID': '123'}]\n",
    "# question = \"\"\" For all \"FL_Order\" for \"Part_ID\" \\'255\\' list all \"FL_Tasks\" by \"FL_Task_Creation_Date\" and \"FL_Task_Labor_Price\" \"\"\""
   ]
  },
  {
   "cell_type": "code",
   "execution_count": 26,
   "id": "3a2c9c7e-149e-434f-933d-04f941e8a0df",
   "metadata": {
    "tags": []
   },
   "outputs": [],
   "source": [
    "# result = \"\"\"  [{'Year': 2018, 'Total Revenue': 24564350.0}, {'Year': 2019, 'Total Revenue': 22275220.0}, {'Year': 2020, 'Total Revenue': 20999940.0}, {'Year': 2021, 'Total Revenue': 15893080.0}, {'Year': 2022, 'Total Revenue': 17132090.0}, {'Year': 2023, 'Total Revenue': 20705560.0}, {'Year': 2024, 'Total Revenue': 10936850.0}] \"\"\"\n",
    "# question = \"give me total revenue by year\""
   ]
  },
  {
   "cell_type": "code",
   "execution_count": null,
   "id": "5c2d2ae8-a225-4893-aded-26ff52cf5cb2",
   "metadata": {
    "tags": []
   },
   "outputs": [
    {
     "name": "stdout",
     "output_type": "stream",
     "text": [
      "False\n"
     ]
    }
   ],
   "source": [
    "import time\n",
    "# result = \"\"\"[{\\'Account Number\\': \\'01-000-1338\\', \\'Description\\': \\'WIP Parts/Repairs\\', \\'Credit Value\\': 120440.97, \\'Debit Value\\': 65588.6}]\"\"\"\n",
    "# question = \"List total credit value and total debit value by account number and description\"\n",
    "\n",
    "start_time = time.time()\n",
    "res, stream = generate_html_response(result, question)\n",
    "end_time = time.time()\n",
    "time_taken = end_time - start_time\n",
    "print(\"time_taken:\", time_taken)\n",
    "print(\"result:\", res)\n",
    "print(f\"\\n stream result:- {stream}\")"
   ]
  },
  {
   "cell_type": "code",
   "execution_count": null,
   "id": "3a15f027-f31c-4ac7-8e88-90612f5ebe87",
   "metadata": {},
   "outputs": [],
   "source": []
  }
 ],
 "metadata": {
  "kernelspec": {
   "display_name": "Python 3",
   "language": "python",
   "name": "python3"
  },
  "language_info": {
   "codemirror_mode": {
    "name": "ipython",
    "version": 3
   },
   "file_extension": ".py",
   "mimetype": "text/x-python",
   "name": "python",
   "nbconvert_exporter": "python",
   "pygments_lexer": "ipython3",
   "version": "3.10.8"
  }
 },
 "nbformat": 4,
 "nbformat_minor": 5
}
